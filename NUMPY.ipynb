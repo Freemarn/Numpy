{
 "cells": [
  {
   "cell_type": "code",
   "execution_count": 2,
   "metadata": {},
   "outputs": [],
   "source": [
    "import numpy as np"
   ]
  },
  {
   "cell_type": "code",
   "execution_count": 9,
   "metadata": {},
   "outputs": [
    {
     "name": "stdout",
     "output_type": "stream",
     "text": [
      "(6,)\n",
      "1\n",
      "6\n",
      "<class 'numpy.ndarray'>\n",
      "int32\n"
     ]
    }
   ],
   "source": [
    "a = np.array([2, 3, 4, 5, 6, 7])\n",
    "print(a.shape)\n",
    "print(a.ndim)\n",
    "print(a.size)\n",
    "print(type(a))\n",
    "print(a.dtype)"
   ]
  },
  {
   "cell_type": "markdown",
   "metadata": {},
   "source": [
    "## indexing and Slicing Method"
   ]
  },
  {
   "cell_type": "code",
   "execution_count": 39,
   "metadata": {},
   "outputs": [
    {
     "name": "stdout",
     "output_type": "stream",
     "text": [
      "2.3\n",
      "[2.3 3.4 5.5 6.4 6.7]\n",
      "<class 'numpy.ndarray'>\n",
      "float64\n"
     ]
    }
   ],
   "source": [
    "b = np.array ([2.3, 3.4, 5.5, 6.4, 6.7])\n",
    "print(b[0])\n",
    "print(b)\n",
    "print(type(b))\n",
    "print(b.dtype)"
   ]
  },
  {
   "cell_type": "code",
   "execution_count": 44,
   "metadata": {},
   "outputs": [
    {
     "name": "stdout",
     "output_type": "stream",
     "text": [
      "[3.4 5.5 6.4]\n",
      "[3.4]\n"
     ]
    }
   ],
   "source": [
    "# like list and tuples, we can also slice the numpy array\n",
    "print(b[1:4])\n",
    "print(b[1:2])"
   ]
  },
  {
   "cell_type": "code",
   "execution_count": 43,
   "metadata": {},
   "outputs": [
    {
     "name": "stdout",
     "output_type": "stream",
     "text": [
      "[2 1 2 3 4]\n"
     ]
    }
   ],
   "source": [
    "# The elements of an array can also be be changed using the syntax below\n",
    "c=np.array([20,1,2,3,4])\n",
    "\n",
    "c[0]=100\n",
    "\n",
    "c[0]=2\n",
    "\n",
    "print(c)"
   ]
  },
  {
   "cell_type": "markdown",
   "metadata": {},
   "source": [
    "## BASIC OPERATION"
   ]
  },
  {
   "cell_type": "markdown",
   "metadata": {},
   "source": [
    "#### VECTOR ADDITION AND SUBTRACTION"
   ]
  },
  {
   "cell_type": "code",
   "execution_count": 47,
   "metadata": {},
   "outputs": [],
   "source": [
    "# Zip is used to add together two values,  ore like a funcron\n",
    "u = [0, 1]\n",
    "v = [1, 0]\n",
    "z= []\n",
    "for n,m in zip(u, v):\n",
    "    z.append(n + m)"
   ]
  },
  {
   "cell_type": "code",
   "execution_count": 48,
   "metadata": {},
   "outputs": [
    {
     "name": "stdout",
     "output_type": "stream",
     "text": [
      "[1, 1]\n"
     ]
    }
   ],
   "source": [
    "print(z)"
   ]
  },
  {
   "cell_type": "code",
   "execution_count": 60,
   "metadata": {},
   "outputs": [],
   "source": [
    "a = [2, 3]\n",
    "b = [3, 4]\n",
    "x = []\n",
    "for q,m in zip(a, b):\n",
    "    x.append(q+m)"
   ]
  },
  {
   "cell_type": "code",
   "execution_count": 61,
   "metadata": {},
   "outputs": [
    {
     "name": "stdout",
     "output_type": "stream",
     "text": [
      "[5, 7]\n"
     ]
    }
   ],
   "source": [
    "print(x)"
   ]
  },
  {
   "cell_type": "code",
   "execution_count": 72,
   "metadata": {},
   "outputs": [],
   "source": [
    "# addition of vector can also be performed using the numpy array\n",
    "\n",
    "a = np.array([1, 0])\n",
    "b = np.array([0, 1])\n",
    "\n",
    "# print(a+b) or z= a+b"
   ]
  },
  {
   "cell_type": "code",
   "execution_count": 73,
   "metadata": {},
   "outputs": [
    {
     "name": "stdout",
     "output_type": "stream",
     "text": [
      "[1 1]\n"
     ]
    }
   ],
   "source": [
    "print(z)"
   ]
  },
  {
   "cell_type": "code",
   "execution_count": 74,
   "metadata": {},
   "outputs": [],
   "source": [
    "# subtraction can be done using the np array\n",
    "a = np.array([2, 4])\n",
    "b = np.array([4, 8])\n",
    "q = b-a"
   ]
  },
  {
   "cell_type": "code",
   "execution_count": 75,
   "metadata": {},
   "outputs": [
    {
     "name": "stdout",
     "output_type": "stream",
     "text": [
      "[2 4]\n"
     ]
    }
   ],
   "source": [
    "print(q)"
   ]
  },
  {
   "cell_type": "code",
   "execution_count": 85,
   "metadata": {},
   "outputs": [],
   "source": [
    "# The zip can also be used for subtraction of vectors\n",
    "x = (2, 4)\n",
    "c = (4, 8)\n",
    "l = []\n",
    "for p,o in zip(x,c):\n",
    "    l.append(o-p)"
   ]
  },
  {
   "cell_type": "code",
   "execution_count": 86,
   "metadata": {},
   "outputs": [
    {
     "name": "stdout",
     "output_type": "stream",
     "text": [
      "[2, 4]\n"
     ]
    }
   ],
   "source": [
    "print(l)"
   ]
  },
  {
   "cell_type": "markdown",
   "metadata": {},
   "source": [
    "## ARRAY MULTIPLICATION WITH A SCALAR"
   ]
  },
  {
   "cell_type": "code",
   "execution_count": 96,
   "metadata": {},
   "outputs": [],
   "source": [
    "b = (2, 2)\n",
    "z = []\n",
    "for n in b:\n",
    "    z.append(2*n)"
   ]
  },
  {
   "cell_type": "code",
   "execution_count": 97,
   "metadata": {},
   "outputs": [
    {
     "name": "stdout",
     "output_type": "stream",
     "text": [
      "[4, 4]\n"
     ]
    }
   ],
   "source": [
    "print(z)"
   ]
  },
  {
   "cell_type": "code",
   "execution_count": null,
   "metadata": {},
   "outputs": [],
   "source": [
    "# you can as well use the numpy array, since it requires lesser line of codes and it is faster"
   ]
  },
  {
   "cell_type": "code",
   "execution_count": 98,
   "metadata": {},
   "outputs": [
    {
     "name": "stdout",
     "output_type": "stream",
     "text": [
      "[4 6]\n"
     ]
    }
   ],
   "source": [
    "n = np.array ([2,3])\n",
    "z = 2*n\n",
    "print(z)"
   ]
  },
  {
   "cell_type": "markdown",
   "metadata": {},
   "source": [
    "## PRODUCT OF TWO NUMPY ARRAY"
   ]
  },
  {
   "cell_type": "code",
   "execution_count": 100,
   "metadata": {},
   "outputs": [],
   "source": [
    "# using numpy array\n",
    "a = np.array ([2,4])\n",
    "b = np.array([3,6])\n",
    "z = a*b"
   ]
  },
  {
   "cell_type": "code",
   "execution_count": 101,
   "metadata": {},
   "outputs": [
    {
     "name": "stdout",
     "output_type": "stream",
     "text": [
      "[ 6 24]\n"
     ]
    }
   ],
   "source": [
    "print(z)"
   ]
  },
  {
   "cell_type": "code",
   "execution_count": 103,
   "metadata": {},
   "outputs": [],
   "source": [
    "# using the second method\n",
    "u = ([2,4])\n",
    "v = ([2,4])\n",
    "z = []\n",
    "for y,m in zip(u, v):\n",
    "    z.append(y*m)"
   ]
  },
  {
   "cell_type": "code",
   "execution_count": 104,
   "metadata": {},
   "outputs": [
    {
     "name": "stdout",
     "output_type": "stream",
     "text": [
      "[4, 16]\n"
     ]
    }
   ],
   "source": [
    "print(z)"
   ]
  },
  {
   "cell_type": "markdown",
   "metadata": {},
   "source": [
    "## DOT CPRODUCT"
   ]
  },
  {
   "cell_type": "code",
   "execution_count": 105,
   "metadata": {},
   "outputs": [],
   "source": [
    "# This represents how similar two vectors are, we multiplyt the elements in the vecftor and add the product of the vector"
   ]
  },
  {
   "cell_type": "code",
   "execution_count": 110,
   "metadata": {},
   "outputs": [
    {
     "name": "stdout",
     "output_type": "stream",
     "text": [
      "5\n"
     ]
    }
   ],
   "source": [
    "a = 1\n",
    "b = 2\n",
    "c = 3\n",
    "d = 1\n",
    "z = (a*c)+(b*d)\n",
    "print(z)"
   ]
  },
  {
   "cell_type": "code",
   "execution_count": 109,
   "metadata": {},
   "outputs": [
    {
     "name": "stdout",
     "output_type": "stream",
     "text": [
      "5\n"
     ]
    }
   ],
   "source": [
    "a = ([1,2])\n",
    "b = ([3,1])\n",
    "print(np.dot(a,b))"
   ]
  },
  {
   "cell_type": "markdown",
   "metadata": {},
   "source": [
    "## BROADCASTING"
   ]
  },
  {
   "cell_type": "code",
   "execution_count": 116,
   "metadata": {},
   "outputs": [],
   "source": [
    "u = np.array ([2, 4, 6, 8, 10])\n",
    "z = u + 1\n"
   ]
  },
  {
   "cell_type": "code",
   "execution_count": 117,
   "metadata": {},
   "outputs": [
    {
     "name": "stdout",
     "output_type": "stream",
     "text": [
      "[ 3  5  7  9 11]\n"
     ]
    }
   ],
   "source": [
    "print(z)"
   ]
  },
  {
   "cell_type": "markdown",
   "metadata": {},
   "source": [
    "## UNIVERSAL FUNCTIONS"
   ]
  },
  {
   "cell_type": "code",
   "execution_count": null,
   "metadata": {},
   "outputs": [],
   "source": [
    "# The following are universal funcftions\n",
    "# np.mean()\n",
    "# np.max()\n",
    "# np.linspace()\n",
    "# np.sin()"
   ]
  },
  {
   "cell_type": "code",
   "execution_count": 125,
   "metadata": {},
   "outputs": [],
   "source": [
    "u = np.array ([2, 4, 6, 8, 10])\n",
    "p = u.mean()\n",
    "q = u.max()"
   ]
  },
  {
   "cell_type": "code",
   "execution_count": 123,
   "metadata": {},
   "outputs": [
    {
     "name": "stdout",
     "output_type": "stream",
     "text": [
      "6.0\n",
      "10\n"
     ]
    }
   ],
   "source": [
    "print(p)\n",
    "print(q)"
   ]
  },
  {
   "cell_type": "code",
   "execution_count": 126,
   "metadata": {},
   "outputs": [
    {
     "data": {
      "text/plain": [
       "3.141592653589793"
      ]
     },
     "execution_count": 126,
     "metadata": {},
     "output_type": "execute_result"
    }
   ],
   "source": [
    "np.pi"
   ]
  },
  {
   "cell_type": "code",
   "execution_count": 128,
   "metadata": {},
   "outputs": [],
   "source": [
    "a = np.array([0, np.pi/2, np.pi])\n",
    "z = np.sin(a)"
   ]
  },
  {
   "cell_type": "code",
   "execution_count": 129,
   "metadata": {},
   "outputs": [
    {
     "name": "stdout",
     "output_type": "stream",
     "text": [
      "[0.0000000e+00 1.0000000e+00 1.2246468e-16]\n"
     ]
    }
   ],
   "source": [
    "print(z)"
   ]
  },
  {
   "cell_type": "code",
   "execution_count": 135,
   "metadata": {},
   "outputs": [
    {
     "ename": "NameError",
     "evalue": "name 'numpy' is not defined",
     "output_type": "error",
     "traceback": [
      "\u001b[1;31m---------------------------------------------------------------------------\u001b[0m",
      "\u001b[1;31mNameError\u001b[0m                                 Traceback (most recent call last)",
      "\u001b[1;32m<ipython-input-135-9d9c24156890>\u001b[0m in \u001b[0;36m<module>\u001b[1;34m\u001b[0m\n\u001b[1;32m----> 1\u001b[1;33m \u001b[0mnumpy\u001b[0m\u001b[1;33m.\u001b[0m\u001b[0mlinespace\u001b[0m\u001b[1;33m\u001b[0m\u001b[1;33m\u001b[0m\u001b[0m\n\u001b[0m",
      "\u001b[1;31mNameError\u001b[0m: name 'numpy' is not defined"
     ]
    }
   ],
   "source": [
    "numpy.linespace"
   ]
  },
  {
   "cell_type": "code",
   "execution_count": 146,
   "metadata": {},
   "outputs": [
    {
     "data": {
      "text/plain": [
       "array([-3. , -1.5,  0. ,  1.5,  3. ])"
      ]
     },
     "execution_count": 146,
     "metadata": {},
     "output_type": "execute_result"
    }
   ],
   "source": [
    "np.linspace(-3, 3, num = 5 )"
   ]
  },
  {
   "cell_type": "markdown",
   "metadata": {},
   "source": [
    "## plotting mathematical Functions"
   ]
  },
  {
   "cell_type": "code",
   "execution_count": 12,
   "metadata": {},
   "outputs": [],
   "source": [
    "import numpy as np\n",
    "a = np.linspace(0, 2*np.pi, 100)\n",
    "z = np.sin(a)"
   ]
  },
  {
   "cell_type": "code",
   "execution_count": 13,
   "metadata": {},
   "outputs": [],
   "source": [
    "import matplotlib.pyplot as plt"
   ]
  },
  {
   "cell_type": "code",
   "execution_count": 18,
   "metadata": {},
   "outputs": [],
   "source": [
    "%matplotlib notebook"
   ]
  },
  {
   "cell_type": "code",
   "execution_count": 19,
   "metadata": {},
   "outputs": [
    {
     "data": {
      "application/javascript": [
       "/* Put everything inside the global mpl namespace */\n",
       "window.mpl = {};\n",
       "\n",
       "\n",
       "mpl.get_websocket_type = function() {\n",
       "    if (typeof(WebSocket) !== 'undefined') {\n",
       "        return WebSocket;\n",
       "    } else if (typeof(MozWebSocket) !== 'undefined') {\n",
       "        return MozWebSocket;\n",
       "    } else {\n",
       "        alert('Your browser does not have WebSocket support. ' +\n",
       "              'Please try Chrome, Safari or Firefox ≥ 6. ' +\n",
       "              'Firefox 4 and 5 are also supported but you ' +\n",
       "              'have to enable WebSockets in about:config.');\n",
       "    };\n",
       "}\n",
       "\n",
       "mpl.figure = function(figure_id, websocket, ondownload, parent_element) {\n",
       "    this.id = figure_id;\n",
       "\n",
       "    this.ws = websocket;\n",
       "\n",
       "    this.supports_binary = (this.ws.binaryType != undefined);\n",
       "\n",
       "    if (!this.supports_binary) {\n",
       "        var warnings = document.getElementById(\"mpl-warnings\");\n",
       "        if (warnings) {\n",
       "            warnings.style.display = 'block';\n",
       "            warnings.textContent = (\n",
       "                \"This browser does not support binary websocket messages. \" +\n",
       "                    \"Performance may be slow.\");\n",
       "        }\n",
       "    }\n",
       "\n",
       "    this.imageObj = new Image();\n",
       "\n",
       "    this.context = undefined;\n",
       "    this.message = undefined;\n",
       "    this.canvas = undefined;\n",
       "    this.rubberband_canvas = undefined;\n",
       "    this.rubberband_context = undefined;\n",
       "    this.format_dropdown = undefined;\n",
       "\n",
       "    this.image_mode = 'full';\n",
       "\n",
       "    this.root = $('<div/>');\n",
       "    this._root_extra_style(this.root)\n",
       "    this.root.attr('style', 'display: inline-block');\n",
       "\n",
       "    $(parent_element).append(this.root);\n",
       "\n",
       "    this._init_header(this);\n",
       "    this._init_canvas(this);\n",
       "    this._init_toolbar(this);\n",
       "\n",
       "    var fig = this;\n",
       "\n",
       "    this.waiting = false;\n",
       "\n",
       "    this.ws.onopen =  function () {\n",
       "            fig.send_message(\"supports_binary\", {value: fig.supports_binary});\n",
       "            fig.send_message(\"send_image_mode\", {});\n",
       "            if (mpl.ratio != 1) {\n",
       "                fig.send_message(\"set_dpi_ratio\", {'dpi_ratio': mpl.ratio});\n",
       "            }\n",
       "            fig.send_message(\"refresh\", {});\n",
       "        }\n",
       "\n",
       "    this.imageObj.onload = function() {\n",
       "            if (fig.image_mode == 'full') {\n",
       "                // Full images could contain transparency (where diff images\n",
       "                // almost always do), so we need to clear the canvas so that\n",
       "                // there is no ghosting.\n",
       "                fig.context.clearRect(0, 0, fig.canvas.width, fig.canvas.height);\n",
       "            }\n",
       "            fig.context.drawImage(fig.imageObj, 0, 0);\n",
       "        };\n",
       "\n",
       "    this.imageObj.onunload = function() {\n",
       "        fig.ws.close();\n",
       "    }\n",
       "\n",
       "    this.ws.onmessage = this._make_on_message_function(this);\n",
       "\n",
       "    this.ondownload = ondownload;\n",
       "}\n",
       "\n",
       "mpl.figure.prototype._init_header = function() {\n",
       "    var titlebar = $(\n",
       "        '<div class=\"ui-dialog-titlebar ui-widget-header ui-corner-all ' +\n",
       "        'ui-helper-clearfix\"/>');\n",
       "    var titletext = $(\n",
       "        '<div class=\"ui-dialog-title\" style=\"width: 100%; ' +\n",
       "        'text-align: center; padding: 3px;\"/>');\n",
       "    titlebar.append(titletext)\n",
       "    this.root.append(titlebar);\n",
       "    this.header = titletext[0];\n",
       "}\n",
       "\n",
       "\n",
       "\n",
       "mpl.figure.prototype._canvas_extra_style = function(canvas_div) {\n",
       "\n",
       "}\n",
       "\n",
       "\n",
       "mpl.figure.prototype._root_extra_style = function(canvas_div) {\n",
       "\n",
       "}\n",
       "\n",
       "mpl.figure.prototype._init_canvas = function() {\n",
       "    var fig = this;\n",
       "\n",
       "    var canvas_div = $('<div/>');\n",
       "\n",
       "    canvas_div.attr('style', 'position: relative; clear: both; outline: 0');\n",
       "\n",
       "    function canvas_keyboard_event(event) {\n",
       "        return fig.key_event(event, event['data']);\n",
       "    }\n",
       "\n",
       "    canvas_div.keydown('key_press', canvas_keyboard_event);\n",
       "    canvas_div.keyup('key_release', canvas_keyboard_event);\n",
       "    this.canvas_div = canvas_div\n",
       "    this._canvas_extra_style(canvas_div)\n",
       "    this.root.append(canvas_div);\n",
       "\n",
       "    var canvas = $('<canvas/>');\n",
       "    canvas.addClass('mpl-canvas');\n",
       "    canvas.attr('style', \"left: 0; top: 0; z-index: 0; outline: 0\")\n",
       "\n",
       "    this.canvas = canvas[0];\n",
       "    this.context = canvas[0].getContext(\"2d\");\n",
       "\n",
       "    var backingStore = this.context.backingStorePixelRatio ||\n",
       "\tthis.context.webkitBackingStorePixelRatio ||\n",
       "\tthis.context.mozBackingStorePixelRatio ||\n",
       "\tthis.context.msBackingStorePixelRatio ||\n",
       "\tthis.context.oBackingStorePixelRatio ||\n",
       "\tthis.context.backingStorePixelRatio || 1;\n",
       "\n",
       "    mpl.ratio = (window.devicePixelRatio || 1) / backingStore;\n",
       "\n",
       "    var rubberband = $('<canvas/>');\n",
       "    rubberband.attr('style', \"position: absolute; left: 0; top: 0; z-index: 1;\")\n",
       "\n",
       "    var pass_mouse_events = true;\n",
       "\n",
       "    canvas_div.resizable({\n",
       "        start: function(event, ui) {\n",
       "            pass_mouse_events = false;\n",
       "        },\n",
       "        resize: function(event, ui) {\n",
       "            fig.request_resize(ui.size.width, ui.size.height);\n",
       "        },\n",
       "        stop: function(event, ui) {\n",
       "            pass_mouse_events = true;\n",
       "            fig.request_resize(ui.size.width, ui.size.height);\n",
       "        },\n",
       "    });\n",
       "\n",
       "    function mouse_event_fn(event) {\n",
       "        if (pass_mouse_events)\n",
       "            return fig.mouse_event(event, event['data']);\n",
       "    }\n",
       "\n",
       "    rubberband.mousedown('button_press', mouse_event_fn);\n",
       "    rubberband.mouseup('button_release', mouse_event_fn);\n",
       "    // Throttle sequential mouse events to 1 every 20ms.\n",
       "    rubberband.mousemove('motion_notify', mouse_event_fn);\n",
       "\n",
       "    rubberband.mouseenter('figure_enter', mouse_event_fn);\n",
       "    rubberband.mouseleave('figure_leave', mouse_event_fn);\n",
       "\n",
       "    canvas_div.on(\"wheel\", function (event) {\n",
       "        event = event.originalEvent;\n",
       "        event['data'] = 'scroll'\n",
       "        if (event.deltaY < 0) {\n",
       "            event.step = 1;\n",
       "        } else {\n",
       "            event.step = -1;\n",
       "        }\n",
       "        mouse_event_fn(event);\n",
       "    });\n",
       "\n",
       "    canvas_div.append(canvas);\n",
       "    canvas_div.append(rubberband);\n",
       "\n",
       "    this.rubberband = rubberband;\n",
       "    this.rubberband_canvas = rubberband[0];\n",
       "    this.rubberband_context = rubberband[0].getContext(\"2d\");\n",
       "    this.rubberband_context.strokeStyle = \"#000000\";\n",
       "\n",
       "    this._resize_canvas = function(width, height) {\n",
       "        // Keep the size of the canvas, canvas container, and rubber band\n",
       "        // canvas in synch.\n",
       "        canvas_div.css('width', width)\n",
       "        canvas_div.css('height', height)\n",
       "\n",
       "        canvas.attr('width', width * mpl.ratio);\n",
       "        canvas.attr('height', height * mpl.ratio);\n",
       "        canvas.attr('style', 'width: ' + width + 'px; height: ' + height + 'px;');\n",
       "\n",
       "        rubberband.attr('width', width);\n",
       "        rubberband.attr('height', height);\n",
       "    }\n",
       "\n",
       "    // Set the figure to an initial 600x600px, this will subsequently be updated\n",
       "    // upon first draw.\n",
       "    this._resize_canvas(600, 600);\n",
       "\n",
       "    // Disable right mouse context menu.\n",
       "    $(this.rubberband_canvas).bind(\"contextmenu\",function(e){\n",
       "        return false;\n",
       "    });\n",
       "\n",
       "    function set_focus () {\n",
       "        canvas.focus();\n",
       "        canvas_div.focus();\n",
       "    }\n",
       "\n",
       "    window.setTimeout(set_focus, 100);\n",
       "}\n",
       "\n",
       "mpl.figure.prototype._init_toolbar = function() {\n",
       "    var fig = this;\n",
       "\n",
       "    var nav_element = $('<div/>');\n",
       "    nav_element.attr('style', 'width: 100%');\n",
       "    this.root.append(nav_element);\n",
       "\n",
       "    // Define a callback function for later on.\n",
       "    function toolbar_event(event) {\n",
       "        return fig.toolbar_button_onclick(event['data']);\n",
       "    }\n",
       "    function toolbar_mouse_event(event) {\n",
       "        return fig.toolbar_button_onmouseover(event['data']);\n",
       "    }\n",
       "\n",
       "    for(var toolbar_ind in mpl.toolbar_items) {\n",
       "        var name = mpl.toolbar_items[toolbar_ind][0];\n",
       "        var tooltip = mpl.toolbar_items[toolbar_ind][1];\n",
       "        var image = mpl.toolbar_items[toolbar_ind][2];\n",
       "        var method_name = mpl.toolbar_items[toolbar_ind][3];\n",
       "\n",
       "        if (!name) {\n",
       "            // put a spacer in here.\n",
       "            continue;\n",
       "        }\n",
       "        var button = $('<button/>');\n",
       "        button.addClass('ui-button ui-widget ui-state-default ui-corner-all ' +\n",
       "                        'ui-button-icon-only');\n",
       "        button.attr('role', 'button');\n",
       "        button.attr('aria-disabled', 'false');\n",
       "        button.click(method_name, toolbar_event);\n",
       "        button.mouseover(tooltip, toolbar_mouse_event);\n",
       "\n",
       "        var icon_img = $('<span/>');\n",
       "        icon_img.addClass('ui-button-icon-primary ui-icon');\n",
       "        icon_img.addClass(image);\n",
       "        icon_img.addClass('ui-corner-all');\n",
       "\n",
       "        var tooltip_span = $('<span/>');\n",
       "        tooltip_span.addClass('ui-button-text');\n",
       "        tooltip_span.html(tooltip);\n",
       "\n",
       "        button.append(icon_img);\n",
       "        button.append(tooltip_span);\n",
       "\n",
       "        nav_element.append(button);\n",
       "    }\n",
       "\n",
       "    var fmt_picker_span = $('<span/>');\n",
       "\n",
       "    var fmt_picker = $('<select/>');\n",
       "    fmt_picker.addClass('mpl-toolbar-option ui-widget ui-widget-content');\n",
       "    fmt_picker_span.append(fmt_picker);\n",
       "    nav_element.append(fmt_picker_span);\n",
       "    this.format_dropdown = fmt_picker[0];\n",
       "\n",
       "    for (var ind in mpl.extensions) {\n",
       "        var fmt = mpl.extensions[ind];\n",
       "        var option = $(\n",
       "            '<option/>', {selected: fmt === mpl.default_extension}).html(fmt);\n",
       "        fmt_picker.append(option);\n",
       "    }\n",
       "\n",
       "    // Add hover states to the ui-buttons\n",
       "    $( \".ui-button\" ).hover(\n",
       "        function() { $(this).addClass(\"ui-state-hover\");},\n",
       "        function() { $(this).removeClass(\"ui-state-hover\");}\n",
       "    );\n",
       "\n",
       "    var status_bar = $('<span class=\"mpl-message\"/>');\n",
       "    nav_element.append(status_bar);\n",
       "    this.message = status_bar[0];\n",
       "}\n",
       "\n",
       "mpl.figure.prototype.request_resize = function(x_pixels, y_pixels) {\n",
       "    // Request matplotlib to resize the figure. Matplotlib will then trigger a resize in the client,\n",
       "    // which will in turn request a refresh of the image.\n",
       "    this.send_message('resize', {'width': x_pixels, 'height': y_pixels});\n",
       "}\n",
       "\n",
       "mpl.figure.prototype.send_message = function(type, properties) {\n",
       "    properties['type'] = type;\n",
       "    properties['figure_id'] = this.id;\n",
       "    this.ws.send(JSON.stringify(properties));\n",
       "}\n",
       "\n",
       "mpl.figure.prototype.send_draw_message = function() {\n",
       "    if (!this.waiting) {\n",
       "        this.waiting = true;\n",
       "        this.ws.send(JSON.stringify({type: \"draw\", figure_id: this.id}));\n",
       "    }\n",
       "}\n",
       "\n",
       "\n",
       "mpl.figure.prototype.handle_save = function(fig, msg) {\n",
       "    var format_dropdown = fig.format_dropdown;\n",
       "    var format = format_dropdown.options[format_dropdown.selectedIndex].value;\n",
       "    fig.ondownload(fig, format);\n",
       "}\n",
       "\n",
       "\n",
       "mpl.figure.prototype.handle_resize = function(fig, msg) {\n",
       "    var size = msg['size'];\n",
       "    if (size[0] != fig.canvas.width || size[1] != fig.canvas.height) {\n",
       "        fig._resize_canvas(size[0], size[1]);\n",
       "        fig.send_message(\"refresh\", {});\n",
       "    };\n",
       "}\n",
       "\n",
       "mpl.figure.prototype.handle_rubberband = function(fig, msg) {\n",
       "    var x0 = msg['x0'] / mpl.ratio;\n",
       "    var y0 = (fig.canvas.height - msg['y0']) / mpl.ratio;\n",
       "    var x1 = msg['x1'] / mpl.ratio;\n",
       "    var y1 = (fig.canvas.height - msg['y1']) / mpl.ratio;\n",
       "    x0 = Math.floor(x0) + 0.5;\n",
       "    y0 = Math.floor(y0) + 0.5;\n",
       "    x1 = Math.floor(x1) + 0.5;\n",
       "    y1 = Math.floor(y1) + 0.5;\n",
       "    var min_x = Math.min(x0, x1);\n",
       "    var min_y = Math.min(y0, y1);\n",
       "    var width = Math.abs(x1 - x0);\n",
       "    var height = Math.abs(y1 - y0);\n",
       "\n",
       "    fig.rubberband_context.clearRect(\n",
       "        0, 0, fig.canvas.width, fig.canvas.height);\n",
       "\n",
       "    fig.rubberband_context.strokeRect(min_x, min_y, width, height);\n",
       "}\n",
       "\n",
       "mpl.figure.prototype.handle_figure_label = function(fig, msg) {\n",
       "    // Updates the figure title.\n",
       "    fig.header.textContent = msg['label'];\n",
       "}\n",
       "\n",
       "mpl.figure.prototype.handle_cursor = function(fig, msg) {\n",
       "    var cursor = msg['cursor'];\n",
       "    switch(cursor)\n",
       "    {\n",
       "    case 0:\n",
       "        cursor = 'pointer';\n",
       "        break;\n",
       "    case 1:\n",
       "        cursor = 'default';\n",
       "        break;\n",
       "    case 2:\n",
       "        cursor = 'crosshair';\n",
       "        break;\n",
       "    case 3:\n",
       "        cursor = 'move';\n",
       "        break;\n",
       "    }\n",
       "    fig.rubberband_canvas.style.cursor = cursor;\n",
       "}\n",
       "\n",
       "mpl.figure.prototype.handle_message = function(fig, msg) {\n",
       "    fig.message.textContent = msg['message'];\n",
       "}\n",
       "\n",
       "mpl.figure.prototype.handle_draw = function(fig, msg) {\n",
       "    // Request the server to send over a new figure.\n",
       "    fig.send_draw_message();\n",
       "}\n",
       "\n",
       "mpl.figure.prototype.handle_image_mode = function(fig, msg) {\n",
       "    fig.image_mode = msg['mode'];\n",
       "}\n",
       "\n",
       "mpl.figure.prototype.updated_canvas_event = function() {\n",
       "    // Called whenever the canvas gets updated.\n",
       "    this.send_message(\"ack\", {});\n",
       "}\n",
       "\n",
       "// A function to construct a web socket function for onmessage handling.\n",
       "// Called in the figure constructor.\n",
       "mpl.figure.prototype._make_on_message_function = function(fig) {\n",
       "    return function socket_on_message(evt) {\n",
       "        if (evt.data instanceof Blob) {\n",
       "            /* FIXME: We get \"Resource interpreted as Image but\n",
       "             * transferred with MIME type text/plain:\" errors on\n",
       "             * Chrome.  But how to set the MIME type?  It doesn't seem\n",
       "             * to be part of the websocket stream */\n",
       "            evt.data.type = \"image/png\";\n",
       "\n",
       "            /* Free the memory for the previous frames */\n",
       "            if (fig.imageObj.src) {\n",
       "                (window.URL || window.webkitURL).revokeObjectURL(\n",
       "                    fig.imageObj.src);\n",
       "            }\n",
       "\n",
       "            fig.imageObj.src = (window.URL || window.webkitURL).createObjectURL(\n",
       "                evt.data);\n",
       "            fig.updated_canvas_event();\n",
       "            fig.waiting = false;\n",
       "            return;\n",
       "        }\n",
       "        else if (typeof evt.data === 'string' && evt.data.slice(0, 21) == \"data:image/png;base64\") {\n",
       "            fig.imageObj.src = evt.data;\n",
       "            fig.updated_canvas_event();\n",
       "            fig.waiting = false;\n",
       "            return;\n",
       "        }\n",
       "\n",
       "        var msg = JSON.parse(evt.data);\n",
       "        var msg_type = msg['type'];\n",
       "\n",
       "        // Call the  \"handle_{type}\" callback, which takes\n",
       "        // the figure and JSON message as its only arguments.\n",
       "        try {\n",
       "            var callback = fig[\"handle_\" + msg_type];\n",
       "        } catch (e) {\n",
       "            console.log(\"No handler for the '\" + msg_type + \"' message type: \", msg);\n",
       "            return;\n",
       "        }\n",
       "\n",
       "        if (callback) {\n",
       "            try {\n",
       "                // console.log(\"Handling '\" + msg_type + \"' message: \", msg);\n",
       "                callback(fig, msg);\n",
       "            } catch (e) {\n",
       "                console.log(\"Exception inside the 'handler_\" + msg_type + \"' callback:\", e, e.stack, msg);\n",
       "            }\n",
       "        }\n",
       "    };\n",
       "}\n",
       "\n",
       "// from http://stackoverflow.com/questions/1114465/getting-mouse-location-in-canvas\n",
       "mpl.findpos = function(e) {\n",
       "    //this section is from http://www.quirksmode.org/js/events_properties.html\n",
       "    var targ;\n",
       "    if (!e)\n",
       "        e = window.event;\n",
       "    if (e.target)\n",
       "        targ = e.target;\n",
       "    else if (e.srcElement)\n",
       "        targ = e.srcElement;\n",
       "    if (targ.nodeType == 3) // defeat Safari bug\n",
       "        targ = targ.parentNode;\n",
       "\n",
       "    // jQuery normalizes the pageX and pageY\n",
       "    // pageX,Y are the mouse positions relative to the document\n",
       "    // offset() returns the position of the element relative to the document\n",
       "    var x = e.pageX - $(targ).offset().left;\n",
       "    var y = e.pageY - $(targ).offset().top;\n",
       "\n",
       "    return {\"x\": x, \"y\": y};\n",
       "};\n",
       "\n",
       "/*\n",
       " * return a copy of an object with only non-object keys\n",
       " * we need this to avoid circular references\n",
       " * http://stackoverflow.com/a/24161582/3208463\n",
       " */\n",
       "function simpleKeys (original) {\n",
       "  return Object.keys(original).reduce(function (obj, key) {\n",
       "    if (typeof original[key] !== 'object')\n",
       "        obj[key] = original[key]\n",
       "    return obj;\n",
       "  }, {});\n",
       "}\n",
       "\n",
       "mpl.figure.prototype.mouse_event = function(event, name) {\n",
       "    var canvas_pos = mpl.findpos(event)\n",
       "\n",
       "    if (name === 'button_press')\n",
       "    {\n",
       "        this.canvas.focus();\n",
       "        this.canvas_div.focus();\n",
       "    }\n",
       "\n",
       "    var x = canvas_pos.x * mpl.ratio;\n",
       "    var y = canvas_pos.y * mpl.ratio;\n",
       "\n",
       "    this.send_message(name, {x: x, y: y, button: event.button,\n",
       "                             step: event.step,\n",
       "                             guiEvent: simpleKeys(event)});\n",
       "\n",
       "    /* This prevents the web browser from automatically changing to\n",
       "     * the text insertion cursor when the button is pressed.  We want\n",
       "     * to control all of the cursor setting manually through the\n",
       "     * 'cursor' event from matplotlib */\n",
       "    event.preventDefault();\n",
       "    return false;\n",
       "}\n",
       "\n",
       "mpl.figure.prototype._key_event_extra = function(event, name) {\n",
       "    // Handle any extra behaviour associated with a key event\n",
       "}\n",
       "\n",
       "mpl.figure.prototype.key_event = function(event, name) {\n",
       "\n",
       "    // Prevent repeat events\n",
       "    if (name == 'key_press')\n",
       "    {\n",
       "        if (event.which === this._key)\n",
       "            return;\n",
       "        else\n",
       "            this._key = event.which;\n",
       "    }\n",
       "    if (name == 'key_release')\n",
       "        this._key = null;\n",
       "\n",
       "    var value = '';\n",
       "    if (event.ctrlKey && event.which != 17)\n",
       "        value += \"ctrl+\";\n",
       "    if (event.altKey && event.which != 18)\n",
       "        value += \"alt+\";\n",
       "    if (event.shiftKey && event.which != 16)\n",
       "        value += \"shift+\";\n",
       "\n",
       "    value += 'k';\n",
       "    value += event.which.toString();\n",
       "\n",
       "    this._key_event_extra(event, name);\n",
       "\n",
       "    this.send_message(name, {key: value,\n",
       "                             guiEvent: simpleKeys(event)});\n",
       "    return false;\n",
       "}\n",
       "\n",
       "mpl.figure.prototype.toolbar_button_onclick = function(name) {\n",
       "    if (name == 'download') {\n",
       "        this.handle_save(this, null);\n",
       "    } else {\n",
       "        this.send_message(\"toolbar_button\", {name: name});\n",
       "    }\n",
       "};\n",
       "\n",
       "mpl.figure.prototype.toolbar_button_onmouseover = function(tooltip) {\n",
       "    this.message.textContent = tooltip;\n",
       "};\n",
       "mpl.toolbar_items = [[\"Home\", \"Reset original view\", \"fa fa-home icon-home\", \"home\"], [\"Back\", \"Back to previous view\", \"fa fa-arrow-left icon-arrow-left\", \"back\"], [\"Forward\", \"Forward to next view\", \"fa fa-arrow-right icon-arrow-right\", \"forward\"], [\"\", \"\", \"\", \"\"], [\"Pan\", \"Pan axes with left mouse, zoom with right\", \"fa fa-arrows icon-move\", \"pan\"], [\"Zoom\", \"Zoom to rectangle\", \"fa fa-square-o icon-check-empty\", \"zoom\"], [\"\", \"\", \"\", \"\"], [\"Download\", \"Download plot\", \"fa fa-floppy-o icon-save\", \"download\"]];\n",
       "\n",
       "mpl.extensions = [\"eps\", \"jpeg\", \"pdf\", \"png\", \"ps\", \"raw\", \"svg\", \"tif\"];\n",
       "\n",
       "mpl.default_extension = \"png\";var comm_websocket_adapter = function(comm) {\n",
       "    // Create a \"websocket\"-like object which calls the given IPython comm\n",
       "    // object with the appropriate methods. Currently this is a non binary\n",
       "    // socket, so there is still some room for performance tuning.\n",
       "    var ws = {};\n",
       "\n",
       "    ws.close = function() {\n",
       "        comm.close()\n",
       "    };\n",
       "    ws.send = function(m) {\n",
       "        //console.log('sending', m);\n",
       "        comm.send(m);\n",
       "    };\n",
       "    // Register the callback with on_msg.\n",
       "    comm.on_msg(function(msg) {\n",
       "        //console.log('receiving', msg['content']['data'], msg);\n",
       "        // Pass the mpl event to the overridden (by mpl) onmessage function.\n",
       "        ws.onmessage(msg['content']['data'])\n",
       "    });\n",
       "    return ws;\n",
       "}\n",
       "\n",
       "mpl.mpl_figure_comm = function(comm, msg) {\n",
       "    // This is the function which gets called when the mpl process\n",
       "    // starts-up an IPython Comm through the \"matplotlib\" channel.\n",
       "\n",
       "    var id = msg.content.data.id;\n",
       "    // Get hold of the div created by the display call when the Comm\n",
       "    // socket was opened in Python.\n",
       "    var element = $(\"#\" + id);\n",
       "    var ws_proxy = comm_websocket_adapter(comm)\n",
       "\n",
       "    function ondownload(figure, format) {\n",
       "        window.open(figure.imageObj.src);\n",
       "    }\n",
       "\n",
       "    var fig = new mpl.figure(id, ws_proxy,\n",
       "                           ondownload,\n",
       "                           element.get(0));\n",
       "\n",
       "    // Call onopen now - mpl needs it, as it is assuming we've passed it a real\n",
       "    // web socket which is closed, not our websocket->open comm proxy.\n",
       "    ws_proxy.onopen();\n",
       "\n",
       "    fig.parent_element = element.get(0);\n",
       "    fig.cell_info = mpl.find_output_cell(\"<div id='\" + id + \"'></div>\");\n",
       "    if (!fig.cell_info) {\n",
       "        console.error(\"Failed to find cell for figure\", id, fig);\n",
       "        return;\n",
       "    }\n",
       "\n",
       "    var output_index = fig.cell_info[2]\n",
       "    var cell = fig.cell_info[0];\n",
       "\n",
       "};\n",
       "\n",
       "mpl.figure.prototype.handle_close = function(fig, msg) {\n",
       "    var width = fig.canvas.width/mpl.ratio\n",
       "    fig.root.unbind('remove')\n",
       "\n",
       "    // Update the output cell to use the data from the current canvas.\n",
       "    fig.push_to_output();\n",
       "    var dataURL = fig.canvas.toDataURL();\n",
       "    // Re-enable the keyboard manager in IPython - without this line, in FF,\n",
       "    // the notebook keyboard shortcuts fail.\n",
       "    IPython.keyboard_manager.enable()\n",
       "    $(fig.parent_element).html('<img src=\"' + dataURL + '\" width=\"' + width + '\">');\n",
       "    fig.close_ws(fig, msg);\n",
       "}\n",
       "\n",
       "mpl.figure.prototype.close_ws = function(fig, msg){\n",
       "    fig.send_message('closing', msg);\n",
       "    // fig.ws.close()\n",
       "}\n",
       "\n",
       "mpl.figure.prototype.push_to_output = function(remove_interactive) {\n",
       "    // Turn the data on the canvas into data in the output cell.\n",
       "    var width = this.canvas.width/mpl.ratio\n",
       "    var dataURL = this.canvas.toDataURL();\n",
       "    this.cell_info[1]['text/html'] = '<img src=\"' + dataURL + '\" width=\"' + width + '\">';\n",
       "}\n",
       "\n",
       "mpl.figure.prototype.updated_canvas_event = function() {\n",
       "    // Tell IPython that the notebook contents must change.\n",
       "    IPython.notebook.set_dirty(true);\n",
       "    this.send_message(\"ack\", {});\n",
       "    var fig = this;\n",
       "    // Wait a second, then push the new image to the DOM so\n",
       "    // that it is saved nicely (might be nice to debounce this).\n",
       "    setTimeout(function () { fig.push_to_output() }, 1000);\n",
       "}\n",
       "\n",
       "mpl.figure.prototype._init_toolbar = function() {\n",
       "    var fig = this;\n",
       "\n",
       "    var nav_element = $('<div/>');\n",
       "    nav_element.attr('style', 'width: 100%');\n",
       "    this.root.append(nav_element);\n",
       "\n",
       "    // Define a callback function for later on.\n",
       "    function toolbar_event(event) {\n",
       "        return fig.toolbar_button_onclick(event['data']);\n",
       "    }\n",
       "    function toolbar_mouse_event(event) {\n",
       "        return fig.toolbar_button_onmouseover(event['data']);\n",
       "    }\n",
       "\n",
       "    for(var toolbar_ind in mpl.toolbar_items){\n",
       "        var name = mpl.toolbar_items[toolbar_ind][0];\n",
       "        var tooltip = mpl.toolbar_items[toolbar_ind][1];\n",
       "        var image = mpl.toolbar_items[toolbar_ind][2];\n",
       "        var method_name = mpl.toolbar_items[toolbar_ind][3];\n",
       "\n",
       "        if (!name) { continue; };\n",
       "\n",
       "        var button = $('<button class=\"btn btn-default\" href=\"#\" title=\"' + name + '\"><i class=\"fa ' + image + ' fa-lg\"></i></button>');\n",
       "        button.click(method_name, toolbar_event);\n",
       "        button.mouseover(tooltip, toolbar_mouse_event);\n",
       "        nav_element.append(button);\n",
       "    }\n",
       "\n",
       "    // Add the status bar.\n",
       "    var status_bar = $('<span class=\"mpl-message\" style=\"text-align:right; float: right;\"/>');\n",
       "    nav_element.append(status_bar);\n",
       "    this.message = status_bar[0];\n",
       "\n",
       "    // Add the close button to the window.\n",
       "    var buttongrp = $('<div class=\"btn-group inline pull-right\"></div>');\n",
       "    var button = $('<button class=\"btn btn-mini btn-primary\" href=\"#\" title=\"Stop Interaction\"><i class=\"fa fa-power-off icon-remove icon-large\"></i></button>');\n",
       "    button.click(function (evt) { fig.handle_close(fig, {}); } );\n",
       "    button.mouseover('Stop Interaction', toolbar_mouse_event);\n",
       "    buttongrp.append(button);\n",
       "    var titlebar = this.root.find($('.ui-dialog-titlebar'));\n",
       "    titlebar.prepend(buttongrp);\n",
       "}\n",
       "\n",
       "mpl.figure.prototype._root_extra_style = function(el){\n",
       "    var fig = this\n",
       "    el.on(\"remove\", function(){\n",
       "\tfig.close_ws(fig, {});\n",
       "    });\n",
       "}\n",
       "\n",
       "mpl.figure.prototype._canvas_extra_style = function(el){\n",
       "    // this is important to make the div 'focusable\n",
       "    el.attr('tabindex', 0)\n",
       "    // reach out to IPython and tell the keyboard manager to turn it's self\n",
       "    // off when our div gets focus\n",
       "\n",
       "    // location in version 3\n",
       "    if (IPython.notebook.keyboard_manager) {\n",
       "        IPython.notebook.keyboard_manager.register_events(el);\n",
       "    }\n",
       "    else {\n",
       "        // location in version 2\n",
       "        IPython.keyboard_manager.register_events(el);\n",
       "    }\n",
       "\n",
       "}\n",
       "\n",
       "mpl.figure.prototype._key_event_extra = function(event, name) {\n",
       "    var manager = IPython.notebook.keyboard_manager;\n",
       "    if (!manager)\n",
       "        manager = IPython.keyboard_manager;\n",
       "\n",
       "    // Check for shift+enter\n",
       "    if (event.shiftKey && event.which == 13) {\n",
       "        this.canvas_div.blur();\n",
       "        event.shiftKey = false;\n",
       "        // Send a \"J\" for go to next cell\n",
       "        event.which = 74;\n",
       "        event.keyCode = 74;\n",
       "        manager.command_mode();\n",
       "        manager.handle_keydown(event);\n",
       "    }\n",
       "}\n",
       "\n",
       "mpl.figure.prototype.handle_save = function(fig, msg) {\n",
       "    fig.ondownload(fig, null);\n",
       "}\n",
       "\n",
       "\n",
       "mpl.find_output_cell = function(html_output) {\n",
       "    // Return the cell and output element which can be found *uniquely* in the notebook.\n",
       "    // Note - this is a bit hacky, but it is done because the \"notebook_saving.Notebook\"\n",
       "    // IPython event is triggered only after the cells have been serialised, which for\n",
       "    // our purposes (turning an active figure into a static one), is too late.\n",
       "    var cells = IPython.notebook.get_cells();\n",
       "    var ncells = cells.length;\n",
       "    for (var i=0; i<ncells; i++) {\n",
       "        var cell = cells[i];\n",
       "        if (cell.cell_type === 'code'){\n",
       "            for (var j=0; j<cell.output_area.outputs.length; j++) {\n",
       "                var data = cell.output_area.outputs[j];\n",
       "                if (data.data) {\n",
       "                    // IPython >= 3 moved mimebundle to data attribute of output\n",
       "                    data = data.data;\n",
       "                }\n",
       "                if (data['text/html'] == html_output) {\n",
       "                    return [cell, data, j];\n",
       "                }\n",
       "            }\n",
       "        }\n",
       "    }\n",
       "}\n",
       "\n",
       "// Register the function which deals with the matplotlib target/channel.\n",
       "// The kernel may be null if the page has been refreshed.\n",
       "if (IPython.notebook.kernel != null) {\n",
       "    IPython.notebook.kernel.comm_manager.register_target('matplotlib', mpl.mpl_figure_comm);\n",
       "}\n"
      ],
      "text/plain": [
       "<IPython.core.display.Javascript object>"
      ]
     },
     "metadata": {},
     "output_type": "display_data"
    },
    {
     "data": {
      "text/html": [
       "<img src=\"data:image/png;base64,iVBORw0KGgoAAAANSUhEUgAAAbAAAAEgCAYAAADVKCZpAAAAAXNSR0IArs4c6QAAIABJREFUeF7tnQd0VcX6tx86Il1BEAyIIL0G6VVEEAuKgIBgQUQEUUQRvdZruXJVFBQVEFRsCGJBERSVDgm9CVIECb3X0JPwrTn/ne8GSM/Z58w+5zdrZRGyZ8+887yzz+/MzLtnsqEkAiIgAiIgAh4kkM2DNstkERABERABEUACpk4gAiIgAiLgSQISME+6TUaLgAiIgAhIwNQHREAEREAEPElAAuZJt8loERABERABCZj6gAiIgAiIgCcJSMA86TYZLQIiIAIiIAFTHxABERABEfAkAQmYJ90mo0VABERABCRg6gMiIAIiIAKeJCAB86TbZLQIiIAIiIAETH1ABERABETAkwQkYJ50m4wWAREQARGQgKkPiIAIiIAIeJKABMyTbpPRIiACIiACEjD1AREQAREQAU8SkIB50m0yWgREQAREQAKmPiACIiACIuBJAhIwT7pNRouACIiACEjA1AdEQAREQAQ8SUAC5km3yWgREAEREAEJmPqACIiACIiAJwlIwDzpNhktAiIgAiIgAVMfEAEREAER8CQBCZgn3SajRUAEREAEJGDqAyIgAiIgAp4kIAHzpNtktAiIgAiIgARMfUAEREAERMCTBCRgnnSbjBYBERABEZCAqQ+IgAiIgAh4koAEzJNuk9EiIAIiIAISMPUBERABERABTxKQgHnSbTJaBERABERAAqY+IAIiIAIi4EkCIStgl1122bmyZct60ikyWgREQASCRWDp0qX7gWLBqj8j9YasgEVGRp5bsmRJRlgorwiIgAiEPYFs2bItBep6AYQEzAteko0iIAIiECACErAAgU6tGo3ALHCCTBABEfAcAQmYBS6TgFngBJkgAiLgOQISsORd9jFwC7AXqJZMFjOdORxoB5wA7gOWOfnuBZ5zfn8VGJdWr5CApUVI10VABETgYgISsOR7RTMgFvgsBQEzwtXfEbD6jpiZf4sCJhrDLCqeA8wCYyRwSFOIevxEQAREwL8EJGAp8zRx7VNSELBRwCxgvHP7eqBFkp+HnL9fmC/Z2jQC82+nVmkiIALhQUACljkBM8I2BJjn3P4HMNgRsLyAmTo06XngJPCWRmDBeaDiE86x/dAJ9see5vTZBE7HJZAjezaKF8xD8QJ5KZIvF9myhWyAa3Cgq1YRCBABCVjmBOxn4PULBOwp4HogzwUCZtbIhiZTTW/A/BAREREZExMTIJeHdjVHT51l3sb9zFq/l9U7jrJ5X6xPtFJKBfLkpFZEYSLLFKH+1ZdR7+qiPoFTEgERsJ+ABCxzAqYpRIv6dlx8Ar//tZcvF8YQtekAcQnnKJg3J3XKFKFC8fyUL56fKwrmJW+uHL6fM3EJ7D12ir1HT/P3vliWxRxi/Z5jnDsHxQvk4daaV3JH7VJUK1XIolbKFBEQgQsJSMAyJ2A3A48kCeJ4F6jnBHGYwI06TrEmMtEEcRzUFKL/H74TZ+L4dMEWvoiKYeeRU1xZKC/ta5fi+krFqX1VYXLmyJ7uSo+dOsucDfuZvGIHs9bv40x8Ak3KX06/luVpUK6ophnTTVIZRSBwBCRgybM2wRkmKONyYA/wIpDLyToSMHNMI4C2Thj9/U70ocnSE/iXk/c14JO03KkgjrQInX/djLgmLNnGsN83su/YaZ/Q3NOwjE+4MiJaKdV65MRZJizZyug5//jWzuqWKcILt1ahRunCGTNUuUVABFwlIAFzFW/6CpeApY+TybU05hCDv13F33tjfcLyTLtKRJYxby/4P506G8/EJdt4b8bfPiHrVi+Cp9pUolC+xO8y/q9TJYqACKSfgAQs/axcyykBSxutEZO3f9vAmLmbKVnoEt+I6MYqVwRkas8Ehrzz2wbGLdhCkXy5GXJnDVpXuSJto5VDBETAVQISMFfxpq9wCVjqnNbvPsbDXy5l877jdKsfwb/aVSZ/npzpg+vHXGt3HuXJb1aydtdR7mtUlqdvquQLClESAREIDgEJWHC4n1erBCxlJ/y0cidPTVpF/rw5ebtzTZpWCO7RP6fj4hkybR2fzN9C5ZIFGdm9DmUuu9SCXiQTRCD8CEjALPC5BOxiJ5gXkF+f+hdj5v3jW+v64O46FC9o3hG3I/3x1x4GTlyJeWVs9D11ua6sO+twdrRWVoiAnQQkYBb4RQJ2vhPMetej45czfe0eX3ThczdXIXfO9IfEB8ql5iXpB8YtYcehk/y3Y3XuqF06UFWrHhEQARMOrgMtg98PJGD/88GRk2d5cNwSFscc5IVbqnB/46uD76BULDh84gwPfb6Uhf8c9K2J9Wl+jdX2yjgRCCUCEjALvCkB+z8nmN0x7hm7iE37YhnauRa31bzSAu+kbYLZ2eOJb1Zi1usG3FCBx1pVCEh0ZNqWKYcIhDYBCZgF/pWA4XvPquvoaLYfOsnoeyKDHqyR0W5h1uzM+2mTlm73jcIGt60oEcsoROUXgQwSkIBlEJgb2cNdwA4eP0O3j6LZcuA4n9xXj4bXXOYGZtfLTEg4xws//skX0Vt5qHk5nrmpsut1qgIRCGcCEjALvB/OAma2ber6UbRv2nDsvdfRpILZvcu76dy5czw/+f9EbHDbSjzcQmti3vWmLLedgATMAg+Fq4CZaEOz5rVi22E+urcuza8N7jte/uoKZiQ2YMIKfly5k9c7VKdrvQh/Fa1yREAEkhCQgFnQHcJRwMyHfP/xy/l59S7e7VrbMwEb6e0uZ+MT6P3ZEmZt2McH3epwU/WS6b1V+URABNJJQAKWTlBuZgtHAXtlylrGzvuHZ9tV5sFm5dzEG7SyT56J5+4x0b6tpyb0bkjNq7SbfdCcoYpDkoAEzAK3hpuAfRa1hRcmr/HtJ/jirVVCOlrPRFfe/v5836nQk/s15srCl1jQ42SCCIQGAQmYBX4MJwEzJyZ3H7uQlhWLMapHXXKYvZhCPG3Yc4wOHywgomg+vunTkEuDsBFxiCNW88KUgATMAseHi4BtO3iC20bM47L8efi+byMK5A2fc7Vmrd9Lz08X06ZqCd++jtmyhb5wW/BoyYQQJyABS97B5qTl4YA5K2MMMOSCbO8ALZ2/5QOKA4kLHPHAaufaVuC2tPpQOAjYiTNx3PlhFNsPnfBNpZUrlj8tLCF3/aM5m3lt6l/8q10lejdTeH3IOVgNCjgBCdjFyI1obQBaA9uBxUBXYG0K3ukP1AZ6OtdjgQx9Ooe6gJl3o8zO7T+s2MEn911Hi4pG78MvGQ79vlrGr2v28GWv+jQo580XtsPPc2qxrQQkYBd7piHwEtDGufSM8+/rKThxAfAi8JsELHlCExdv46lvV/H4Ddfy2A0VbH0WAmJX7Ok42o+Yh9m0eEr/ppQoZM8RMQEBoEpEwI8EJGAXw+wImCnEXs6lHkB94JFkuJcBogFzjoaZOjQpDljh/GumHn9Iy1+hPAJbt/so7UfMp27ZInzWs35YBG2k5e+/9x7jthHzqXZlIcb3biAmaQHTdRFIgYAE7GIwnZzRV1IBqweYqcIL02BHvJJeM1uo7wTMy00zgFbApmTu7Q2YHyIiIiJjYmJCrpMePx3nC9o4eiqOqY82pViBPCHXxsw26Ltl233TqgNbX8ujrcJ7VJpZhrpPBCRgF/eBjEwhLgf6AWYaMbn0KTAFmJRaVwvVEdhTk1byzdLtfPlAfRqV9/Yeh258VAz4ejk/rdrFxIcaEFlGJzq7wVhlhjYBCdjF/s3pBHGYkdMOJ4ijG7DmgqwVgV8Bc+LiOedaEeAEcBown9hRQPtUAkB8t4WigP3y5y76fLGMfi2vYVCbSqH9FGWydcdOnaXdu3NJSICpjzWl0CXh81pBJpHpNhE4j4AELPkO0Q4Y5oTRfwy8BrwMLAF+dG4xgR5mBf7pJEU0AkYBCUB2p4yxafW5UBOwvUdP0WbYHEoXycd3fRuRK4dBoZQcgWVbD9FpZBQ3Vy/p2xNSSQREIP0EJGDpZ+VazlASMBMqfv+nizE7bvz8aBPKFy/gGrdQKfjdPzby9m8beL9bHW6uoU1/Q8Wvaof7BCRg7jNOs4ZQErDPo2N4/oc/+fdtVbm3Udk0264MEBefQIcPF2B2Kpn+eHMFu6hTiEA6CUjA0gnKzWyhImDmA9hMHUaWMSHz9bRdUgY6zcY9x7j5vXm0uNbsERkpdhlgp6zhS0ACZoHvQ0HAzNRhj7GLWL71ENMHNqeUdl3PcM8aPWcT/5m6jrc716RDHfNqoZIIiEBqBCRgFvSPUBCwrxdt5envVvPq7dXo3sC8362UUQLxCee4a1QUG/fG8vtATSVmlJ/yhx8BCZgFPve6gO06cpIb355D1VIF+apXA7KHwREpbnWbv/fG0m74XG6segUjutVxqxqVKwIhQUACZoEbvSxgZuqw17glLNh0gF8GNKXMZZdaQNTbJrz3x0aG/raBMffU5YYqV3i7MbJeBFwkIAFzEW56i/aygE1bvYuHv1zGs+0q82Azs3uWUlYJnIlL4Nb3zBZcZ5n+eLOwOjctq+x0f3gRkIBZ4G+vCpjZSeKGt2dz2aV5+PGRxuTUC8t+600mGMaE1vdoUIaX21fzW7kqSARCiYAEzAJvelXAXvpxDeOitvB938bUuirxPE8LgIaICYl8zQGgNUqLb4i4Vc3wIwEJmB9hZrYoLwrYym2Huf2D+dzToAz/1gghs65P9T4zwm01dLbvzDDzJSGHgmNc4axCvUtAAmaB77wmYCbcu/3789h37DS/DWxOwbzahNatbvTjyp08On45r9xezTedqCQCIvA/AhIwC3qD1wTsi+gYnvvhT9/ms7fVNMefKblFwER5dh+7kNXbjzDjyRZcnl9nqrnFWuV6j4AEzAKfeUnADh4/Q8u3ZlGlZEG+erC+tjwKQP/ZtC+WtsPmcGvNK3m7c60A1KgqRMAbBCRgFvjJSwL2zHermbhkG9Mea8q1V2in+UB1nzd/Xcf7Mzfx7cONfHtNKomACGC+QC8F6nqBRTYvGJkZG70iYKu2H6b9+/Pp2fhqnr+lSmaaqnsySeDEmTiuf2s2xQvm4Ye+jbXbSSY56rbQIiABs8CfXhCwhIRzvveSth86yYwnFbgRjG4zecUOHvt6BW/cWYPO110VDBNUpwhYRUAClrI72gLDnVOZxwBDLsh6H/AmsMP5+wjA5DPpXuA55/dXgXGped0LAvbD8h0MmLCCNzvWoFNdfXgG4yk2AR3m9OYtB477AjoU/RkML6hOmwhIwJL3Rg5gA9Aa2A4sBroCa5NkNwJm5l4fuaCIosAS59o5wMzRRgKHUnK87QKWOH1VrEAezEu12qw3eI/wnzuOcOuIeTzQ+Gqe0zRu8Byhmq0gIAFL3g0NgZeANs7lZ5x/X0+HgBmhawE85OQdBcwCxntVwN75bQPD/9jIN30acl1Zo89KwSTw9LermLR0u2+fxHLF8gfTFNUtAkElIAFLHn9HwEwh9nIu9wDqXzDaMiMwI2j7nNHa48A24EkgL2CmDk16HjgJvOVFAdt5+CTXD53FDZV1vEdQn9QklZsXyFu8OZPG5S9n9D2eCMCyBZ3sCDECErDkHdrJGX0lFbB6QP8k2S8DYoHTQB+gM3A9MAgwb5smFbATwNALquoNmB8iIiIiY2JirOxaA75eztQ/dzPjieaULpLPShvD0aj3Z/7Nm7+uZ/yDDWh4jemKSiIQfgQkYMn7PD1TiEnvNGtmB4FCzlpZSEwhmv0OTdh8v5bXMKhNpfB7Oixu8amz8Vz/1iyK5s/Nj/2aaF3SYl/JNPcISMCSZ5vTmRZs5UQZmiCObsCaJNlLAruc/98BDAYaAGaRyARuJB6nu8wJ4jACl2yyMYjDRLzdNTqaTXtjmTWohc6kcu8ZzHTJiZGhQzvV5M7I0pkuRzeKgFcJSMBS9lw7YJgTRv8x8BrwshNh+KOz/nUbEOeMvh4G1jnF9QT+5fxu7vsktQ5io4D9tnYPD362hFfaV6VHw7Je7d8hbbd5N++OD+az++gpZj3Zkktym4kAJREIHwISMAt8bZuAxcUn0GbYHMw7AL8OaEYuHVRpQS9J3oRF/xyk86goBrWpSL+W5a21U4aJgBsEJGBuUM1gmbYJWOJu86N7RHJj1RIZbI2yB5pAr3GLWbj5ILOfaknRS3MHunrVJwJBIyABCxr6/1Vsk4DFno7zhWiXuzw/Ex5qoN3mLegfaZmwcc8x34j53kZlefHWqmll13URCBkCEjALXGmTgA3/fSPv/L6B7/s2onaEdj23oHuky4TBk1bx3fLt/DGwBRGX6XWHdEFTJs8TkIBZ4EJbBOxA7GmavTGTphWKMbKH2f1KySsEdh85RYu3ZnJjlRK+g0aVRCAcCEjALPCyLQL275/WMG7BFqY/3pzyxbVFkQVdI0MmvPHLOj6YtYkp/ZtQrZR5JVFJBEKbgATMAv/aIGDbDp6g1dDZdKhTiiF31rCAikzIKIGjp87S9L8zqXVVYcb1NBvHKIlAaBOQgFngXxsEbOCEFfy8ehezB7WkRCGzlaOSFwmMnL2JIdPWMaF3A+qX0xZTXvShbE4/AQlY+lm5ljPYArZ+9zHaDp9D76bleKZdZdfaqYLdJ3DyTDzN35zJVUXzMalPQ0WRuo9cNQSRgAQsiPATqw62gPX+bAlRmw4wd3BLCufTe0QWdIksmfDlwhie/f5Pxt5bl1aVr8hSWbpZBGwmIAGzwDvBFLAV2w5z+/vzGdj6Wh5tVcECGjIhqwTOxifQ+u3Z5M2Vg6mPNtVGv1kFqvutJSABs8A1wRSwHmMXsmbnUeY81ZL8ecwexkqhQGDyih089vUKhnepRftapUKhSWqDCFxEQAJmQacIloCZacOuH0Xz3M2V6dW0nAUkZIK/CJiNfm8aPpcz8Qn89ngzcmo/S3+hVTkWEZCAWeCMYAiYOS6l48goth864Ys8NNNNSqFF4Nc1u3no86W80bEGneteFVqNU2tEAEyQkjm6yhPHkmcLVY8FQ8BmrtvL/Z8u5tXbq9G9QZlQRRvW7TJfUsyBpAdizzDzyRbkzpk9rHmo8aFHQAJmgU8DLWDmg+22EfM5dOIMM57QB5sFXcA1E2Zv2Me9Hy/SuW6uEVbBwSQgAQsmfafuQAvY9DW76a2pJQs8774J5suKOS8s5sAJX6COpordZ64aAkdAApY867bAcOc05jHAkAuyDQR6Oacx7wPMCcwxTp54YLXz+1bAnNqcagqkgJnF/XbvzuV0nBb30/JLqFyP3nyALqMVrBMq/lQ7/kdAAnZxbzDRDBuA1sB2YDHQFVibJGtLYCFwAngYaAHc5VyPBTK0E24gBeznVbvo99Uyht1Vi9trK7w6XD4Mun0UzYY9x3yjsHy59bpEuPg91NspAbvYww2Bl4A2zqVnnH9fT6EzmLMrRgCNbRew+IRztB02x2fmLwOakSN7yMbFhPpzm+H2Ld5ykE4jo/hXu0r0bnZNhu/XDSJgIwEJ2MVe6QiYKUQzRWhSD6A+8EgKDjTitRt41bkeB6xwphfN1OMPaTk+UCOwxJdbR3SrzS01rkzLLF0PMQKJL63Pfaoll+ql9RDzbng2RwJ2sd87OaOvpAJmzqbon0wX6e4IW3PgtHPdKMNOwLwZPANoBWxK5t7egPkhIiIiMiYmcQnNnY5oRl83vjObXDmya3shdxBbX+qyrYfo8MECBretxMMtNAqz3mEyME0CErCLEaV3CvEG4D3AiNfeFEh/CkwBJqXmiUCMwH5YvoMBE1bw4d11uKl6yTQ7hjKEJoH7PlmE2f9y3uDrtXVYaLo4rFolAbvY3WaF2wRxmJHTDieIoxuwJklWs+5lRMlMNW5M8vciTmCHGY1dDkQB7S8IALmoRrcFzIy+zOau5kVWbe4aVs/3RY1due2w7+XmQW0q0q9l+fCGodZ7noAELHkXtgOGOWH0HwOvAS8DS4Afgd+B6sAu5/bEcPlGwCggATDbHpgyxqbVS9wWsO+Xb+fxCSsZ2b0Obatp9JWWP0L9es9PF2OmEzUKC3VPh377JGAW+NhNAYszR2u8M4c8Gn1Z4Gk7TNAozA4/yIqsE5CAZZ1hlktwU8C+W7adgRPN6CuSttVKZNlWFRAaBO7/ZBHLtRYWGs4M41ZIwCxwvlsClrj2lSdXDn7u30QHG1rga1tMSDzIVGthtnhEdmSGgAQsM9T8fI9bApYYeai1Lz87LESK0ygsRBwZxs2QgFngfDcEzDf6emc2ufXelwUettMEjcLs9IusSj8BCVj6WbmW0w0BS9x144O769BO73255juvF2zeCzNBHSYiUbtzeN2b4We/BMwCn/tbwMzoq82wOeTIlo1pjzXV2pcFPrbVhMTdOZ65qRIPNdfuHLb6SXYlT0ACZkHP8LeA/bRyJ/3HL0d7HlrgXA+YYPZIXLvzKHMHa6d6D7hLJiYhIAGzoDv4U8DMeV9th88h4RxMH9BMoy8L/Gu7CUtjDnLnh1E8d3NlejU1W3gqiYA3CEjALPCTPwVs2updPPzlMoZ3qUX7WjrvywL3esKEu8dEs353LGan+ktymyPxlETAfgISMAt85C8BSzxt+Yw5bXlgc533ZYFvvWLCon8O0nlUFM/fUoUHmlztFbNlZ5gTkIBZ0AH8JWDT1+ym9+dLebtzTTrUKW1By2SClwh0GR3F5n3Hfac2582lUZiXfBeutkrALPC8PwTs3Llz3DpiHrGn4vh9YHNy5jB7CSuJQPoJLNi0n24fLeTl9lW5p2HZ9N+onCIQJAISsCCBT1qtPwRsxro99Px0CW92rEGnuldZ0CqZ4DUC5kuQmUbcfugkswa1IE9OjcK85sNws1cCZoHHsypg5oPn9g8WcCD2NDOfbOE7dVlJBDJDYO7GffQYu4j/3FGdbvUjMlOE7hGBgBGQgAUMdcoVZVXA5mzYxz0fL+L1DtXpWk8fOha41LMmmC9Dd3ywgP36MuRZH4aT4RKwlL1tTlse7hxqOQYYckHWPMBnQCRwALgL2OLkeQZ4AIgHHgV+Ta1TZUXAzAdOp5FR7Dxspn1a+k5dVhKBrBCYuW4v93+6mDfurEHn6zQdnRWWutddAhKw5Pmayf8NQGtgO7AY6AqsTZK9L1AD6AN0Ae5wRKwKMB6oB1zpnN58rSNmydaWFQFLXHh/pX1Vemjh3d2nJUxKN1+Kbhsxn6OnzvKHAoLCxOvebKYELHm/NQReAtokGVGZX19Pkt2MqkyeKCAnsBsoBjzt5EnMmzSf3wVMoc/efPBstzrxlYx37qrJHbX1Sobt/gpX+yRgyXu+I2CmEHs5l3sA9YFHkmT/08ljRmgmbXLyGFGLBr5w/j4WmAZMSqmTZXYEppdPw/Wxdb/dZhTW7t15nI6L57fH9VK8+8TDr4a4+ASG/raBu+tHULpIvkwBkIAlj62TM/pKKmBmSrB/kuxrnDxJBczkedkZlSUVsKnAtxdU1RswP0RERETGxMRk2IGvTlnLDyt2MPep67X9T4bp6Ya0CExdvYu+Xy7jva61ubWmmQ1XEgH/Efhu2XYGTlzJ6B6R3Fi1RKYKloAlj80TU4jmW/Keo6cpUShvppyvm0QgNQJmazJzLE+2bPDLY9oYWr3FfwR8B+6+PZs8uXIw9dEmZDOdLBNJApY8NLOmZYI4WgE7nCCOboAZdSWmfkD1JEEcHYDOQFXgqyRBHH8AFdwK4siEz3WLCKSbQOLBqCO716FttZLpvk8ZRSA1Aj+u3Mmj45eT1QN3JWApU24HDHPC6D8GXnOmB5cAPwJm2PM5UBs46EQibnaKexboCcQBA5w1sBRryuwamB4REXCbQOI3ZbM34s9Z+Kbstp0q3zsEEo98OncOfs3ikU8SMAv8LgGzwAkyIUUC3y7dzhPfrGTMPXW5ocoVIiUCWSLgzyOfJGBZcoV/bpaA+YejSnGHgIkWu37obArny8Xkfo0zvV7hjnUq1UsE/n9069l4vxz5JAGzwPsSMAucIBNSJTBh8VYGf7uaT+6/jpYVi4uWCGSKwG9r9/DgZ0sY2qkmd0Zm/f1CCVim3ODfmyRg/uWp0vxPwByS2vKtWRQrkIfv+zbSKMz/iEO+RDd2eJGAWdBtJGAWOEEmpEngy4UxPPv9n3z+QD2aVjCbziiJQPoJ/P89NjvWoLOfjnySgKWfv2s5JWCuoVXBfiRgduVo8eYsShe5hIkPNdQozI9sQ70ot045kIBZ0HMkYBY4QSaki8BnUVt4YfIavnqwPo2uuTxd9yiTCLh15JMEzIK+JQGzwAkyIV0ETp2Np9kbMylX7FK+7m02rFESgdQJmNFXx5FR7HLhyCcJmAW9TwJmgRNkQroJfDzvH16espYJvRtQv9xl6b5PGcOTwPy/93P3mIW8cns1ejQo41cIEjC/4sxcYRKwzHHTXcEhYEZhTf47k4ol8vNlrwbBMUK1eoKAGX3dNSqarQdPMGtQC8yOLv5MEjB/0sxkWRKwTILTbUEjMGbuZl79+S8m9WlI3bJFg2aHKrabQOKBu/++rSr3Nirrd2MlYH5HmvECJWAZZ6Y7gkvg5Jl4mr4xg8olC/L5A+aoPCURuJjAXaOi+Gf/ceY81dLvoy9TmwTMgl4nAbPACTIhwwRGz9nEf6au49uHGxJZRqOwDAMM8RuiNx+gy+hoXrilCj2bXO1KayVgrmDNWKESsIzxUm47CJw4E0fT/86kypUahdnhEbus6Do6mr/3xTLXpdGXRmCW+FsCZokjZEaGCWgUlmFkYXHDws0HuGt0NM/dXJleTcu51maNwFxDm/6CJWDpZ6WcdhHQKMwuf9hijRl9bdz7f6OvS3L7N/IwaRslYBZ4XAJmgRNkQqYJjJq9idenaS0s0wBD7MbEtS+3R1+aQry445iV6AmAiffcAnQGDl2QrRbwIVAQiHdOajb3mPQp0Bw44vz/PmBFWv1TApYWIV23mYAZhZn3wqpqLcxmNwXMti6jo9i077ira1+JjdGJoeXgAAAZw0lEQVQI7Hy3vgEcBIYATwNFgMEXeP5a4BywEbgSWApUBg47AjYFmJSR3iIBywgt5bWRgEZhNnol8DZFbTpA14/cjTzUFGLKfl0PtAB2ASWBWUDFNLrBSqCjI2hmBCYBC/xzoxqDTMCMwsweiZVKFOSLXnovLMjuCFr1br/3dWHDNAI7n4gZRRVO8iczfWhGYSmlesA4oCqQ4IzAzA6np4E/nFGc+T3VpBFYWoR03QsEEnfnMEet1Lta74V5wWf+tDFx140Xb63C/Y3dee9LAga/AyWScdyzjhilV8ASR2j3AtFOeeZvu4HcwGhgE/ByCp2kN2B+iIiIiIyJifFnX1JZIhBwAmZ3jmZvzqR8sfyM7609EgPugCBWaPY87Dwqyrfn4exB7uy6kVzzNAI7n0p6pxBNAIeZXnwd+CaFfmOmIp8EbkmrX2kElhYhXfcKgcSd6sc/2ICG12ineq/4Lat2Jp739Ur7qvRo6P89D1OyTwJ2Ppk3gQNJgjjMPMhTF8Azo6tpwE/AsAuumRGYWT/LBrwDnHKmETWFmNUnRPd7goDZqb75mzMpU/RSJjzUQKc2e8JrWTPSjL5u/2AB+4+dZsaTzcmT0733vjSFmLqvzFfGiWZWD9gKdHKiEusCfYBeQHfgE2BNkqISw+VnAMUcATPh8+ae2LS6h0ZgaRHSdS8RSDy1+YsH6tOkgk5t9pLvMmPrjHV76PnpEoZ0qE6XeuajM3BJI7DAsU6xJgmYBU6QCX4jcDounuvfmk2xAnn4vm8jjcL8Rta+gszo69YR8zh6Mo4/nmhOrhzZA2qkBCyguJOvTAJmgRNkgl8JTFi8lcHfrmbsvXVpVfkKv5atwuwh8Mufu+nzxVLe6lSTjpGlA26YBCzgyC+uUAJmgRNkgl8JnI1PoPXbs8mXOydT+jche3azLKwUSgTiE85x0/A5xMWfY/rjzcgZ4NGXYSkBs6BHScAscIJM8DuBH5bvYMCEFbzfrQ431zDxTUqhRCDRvyO61eaWGmZTosAnCVjgmV9UowTMAifIBL8TMN/Q2w6bQ8I58w29OTk0CvM742AVaEbYrYbOJn+e4I6wJWDB6gFJ6pWAWeAEmeAKgWmrd/Hwl8uCtkbiSqNUKF8t3Mq/vl/Nx/fV5fpKwVvjlIBZ0BklYBY4QSa4QsBEqbV/fz4HYs8E/B0hVxqkQjHv+rV4cxalilzCpD4NgxplKgGzoENKwCxwgkxwjcDcjfvoMXYRgdwjz7XGqGAS97y0YbcVCZgFHVICZoETZIJrBMworNtHC9mw5xhznmrJpXlyulaXCnaXwNFTZ2n+xkyqlSrE5w8E/9QBCZi7/k5X6RKwdGFSJg8TWLb1EB0+WMATra+lf6sKHm5JeJs+dPp63pvxt+/VCCNiwU4SsGB7AJCAWeAEmeA6gd6fLcEceGhGYUUuNVuKKnmJwN5jp2j+xixaVS7OiG51rDBdAmaBGyRgFjhBJrhOYOOeY7QZNsd3VtTzt1RxvT5V4F8Cz//wJ+MXbeX3gc0pe/ml/i08k6VJwDIJzp+3ScD8SVNl2Uxg8KRVfL98h2/fvKuK5rPZVNmWhMCW/ce54e3ZdKl3Fa/eXt0aNhIwC1whAbPACTIhIAR2HTnpC8G+qVoJhnWpHZA6VUnWCfQfv5zf1+5h9lMtKF4gb9YL9FMJEjA/gcxKMRKwrNDTvV4j8N9f1vHhrE3WBAJ4jV+g7V2x7TC3vz+f/teX54kbKwa6+lTrk4BZ4A4JmAVOkAkBI3Dk5FnfoZfVLQnFDljDPViReQXirlHRbN4fy6xBLX1bR9mUJGAWeEMCZoETZEJACSS+DDuuZz2aX2vOgFWykcD0Nbvp/flSXr29Gt0blLHORAnYxS4pCkwAygJbgM7AoWQ8Fw+sdv5uTm++zfn9auBrwJSzDOgBnEnN8xIw654LGeQyAXPoZeu353BJrhxMfaypNvp1mXdmijcb9pqoUXMQzq8DgnNcSlp2S8AuJvQGcBAYAjwNFAEGJwMyFsifzN8nAt85IjYSWAl8KAFLqyvqergRSNzo9/UO1eka4KPow411Ztr7eXQMJnT+o3vq0rpK8DbsTc12CdjFdNYDLYBdgDnEaBaQ3MplcgJmvqzsA0oAcUBD4CWgjQQsM4+Q7gllAmZ9pfOoKP7Zf9zK9ZVQZp9W28yWUS3fnMU1xfMzoXeDoG7YKwFLy1vnXz8MFE7yJzN9aEZhFyYjUCscoTKjtR+Ay4FooLyT+SpgGlBNApYxJyh3eBBIjHDr1/IaBrWpFB6N9kAr/zP1Lz6au5mfHrFjy6iUkIXrCOx3Z5R0IZdngXHpFDBzBOlOoBwwA2gFHAWiLhCwqUByb/71BswPERERkTExMR7o1jJRBPxPYMDXy5n2527fy82li+jlZv8TzliJ5qXl1u/M5o7apXijY82M3Rzg3OEqYKlhTu8UYtIyPgWmAN9qCjHAPVjVeZ7AjsMnuf6tWdxQ5Qret2SPPc9DzUIDzJ6V8//ez8wnW1C8oD0vLSfXJAnYxVTeBA4kCeIw0YRPXZDNTCmeAE4704Zm1NUeWAt84wiZiUQ0QRyrgA80hZiFJ0q3hjyBd37bwPA/NvJ17wY0KHdZyLfX1gYu+Hs/3cYsZFCbivRrmbgSYqu1mLW5pUBdey38n2UmQCIQyTw9JpIwAjDh8Z2cqEQDqQ/QC2gEjAISgOzAMGCsY5yZUkwMo18OdHeELkXbFUYfCLeqDpsJnDwTT6uhsyiUL7dvh44c2QP1uNtMJbC2xcUncMt784g9HefbsDdvrhyBNSATtUnAMgHN37dIwPxNVOV5kcCUVTt55Kvl1r4060WmGbH50/n/8NJPaxnZvQ5tq5kAbPuTBMwCH0nALHCCTAg6ARNW32V0tO/kZrP+UjifzgwLlFP2x56m5VuzqHVVYT7rWc/asPkLeUjAAtVDUqlHAmaBE2SCFQTW7jzKLe/N5e76ZXjl9lTfPrHC3lAxYtA3K/lhxQ5+GdCMa4oltz+DnS2VgFngFwmYBU6QCdYQeOnHNYyL2sLkfo2pUTrpK5nWmBhShizbeogOHyzgoebleOamyp5qmwTMAndJwCxwgkywhoDZBaLV0NmULJSX7/s2VkCHi56JTzhH+/fnse/Yaf54ooV1u82n1XQJWFqEAnBdAhYAyKrCUwQmr9jBY1+v8E0j9rBwF3RPwUzF2E/m/8O/f1rLe11rc2tNszeDt5IEzAJ/ScAscIJMsIqACei4e8xCVu84wownWlCsQB6r7AsFY8zp2DcMnU3dskX59P7rPBO4kZS9BMyCnigBs8AJMsE6An/vjeWm4XO4uXpJhnWpbZ19Xjeoz+dLmbl+L7893pyIy7y5hZcEzIJeKAGzwAkywUoCiTt0fHL/dbSsWNxKG71o1O9r99DrsyU81bYifVvYv+NGSowlYBb0PgmYBU6QCVYSMAdf3vzuPMxOHdMfb8allh1pbyW0NIwyO220eWeOL2BjyqNNyJXDbCbkzSQBs8BvEjALnCATrCWwNOYgHUdGcV+jsrx4a1Vr7fSKYeaQyi8WxjCpTyMiyyR3UpRXWqK9EK3wlATMCjfICIsJvDD5T8wJwd8+3Ig6Ed7+0A0m5qhNB+j6UTQPNLma52+pEkxT/FK3RmB+wZi1QiRgWeOnu0OfwLFTZ33TXpfkzsHPjzb1xEaztnnlxJk42g6bS7Zs8MtjzXwsvZ4kYBZ4UAJmgRNkgvUE5m7cR4+xi3iw6dU8e7P3Rw+BBv7KlLWMnfdPSB1ZIwELdC9Kpj4JmAVOkAmeIPDs96v5atFWJvRuSL2rzVF9SukhsHDzAbp8FE33ENtjUgKWHu+7nEcC5jJgFR8yBI6fjqPt8Dlkz5aNaY81JV/unCHTNrcaYrbmumnYXHLlyOabfg2lSE4J2Pm9xnylmwCUBbYAnYFDF3SslsA7Sf5WCegC/AB8CjQHjjjX7wNWpNUxJWBpEdJ1EfgfgejN/xeI0LVeBP+5o7rQpEFg4MQVTF6xk0l9GlI7xAJgJGDnO/8N5/TlIcDTgAl3GpxK/zCC9zdQGjjhCNgUYFJGnioJWEZoKa8IwH+m/sXoOZsZ2T2SttVKCEkKBKau3kXfL5fxaKsKDGx9bchxkoCd79L1QAtgF2COJJ0FVEzF672dEdfdTh4zApOAhdxjogbZRuBMXAJ3friAbYdO+KYSSxa6xDYTg26P2evwpuFzKVM0H5MebuTpF5ZTgikBO5/MYSDpAURm+jC1l05mAG87omVKMgLWEDgN/OGM4szvqSaNwNIipOsicDGBf/Yf5+Z351K9VCG+erCBjl1JgiguPsF3uvVfu47yU/8mlPPQIZUZ6evhKGC/A8nNOTwLjMuAgJkR2irAnEFw1oFu/rYbMGehjwY2AS+n4BAzejM/RERERMbExGTEb8orAiIAfLNkG4MmreKJ1tfSv1UFMXEI/PeXdXw4axPDu9Sifa1SIcslHAUsNWdmZArxMcDsa+MToWSSmYp8Erglrd6jEVhahHRdBJInYI5deXzCCn5cuZPPetanSYXLwx6V2WH+/k8W+4JcXu8Q2kEuErDzu/ubwAEgMYjDBGk8lcITEQ08A8xMct2MwMz6WTYnUvGUM42oKcSw/1gRALcImB0mbn9/PvtjzzClfxOuLBy+62E7D5/klvfmUbxAHn7o1zjkdyyRgJ3/VF0GTDSzesBWoJMTlVgX6AP0crKbMPv5wFVAQpIizJpYMUfATPi8uSc2rQdXI7C0COm6CKROYNO+WNqPmM81xfMz8aEG5Mnp/W2SMurzU2fj6ThyAVv2n2DyI425JkTXvZJykYBltJe4kF8C5gJUFRl2BKat3sXDXy5z3g+r5skThjPrtMSp1Mkrd/JRj7rcUOWKzBblqfskYBa4SwJmgRNkQkgQGDJtHSNnb+LFW6twf+OrQ6JN6WnER3M289rUv8IumEUClp7e4XIeCZjLgFV82BBISDhHny+W8vtfexhzb12urxT6I5GZ6/bywLjFtKlagg/urhNWI08JmAWPtgTMAifIhJAhYII6Oo2MYsv+43zbtxGVShQMmbZd2JBV2w9z16horil+qW+D41Da5zA9TpOApYeSy3kkYC4DVvFhR2D3kVO0f3+eb9NfswtFqRCMTNx64AQdPpzvizT8rm8jihfIG3Z+loBZ4HIJmAVOkAkhR2DtzqPcNTqKYvnzMLFPQy7Pnydk2ngg9jQdR0Zx6MQZ3ynV4RBxmJzzJGAWdGkJmAVOkAkhSWDJloN0H7uQcpfn5+uHGlAwby7Pt/PwiTN0/Wghm/fF8tWD9YksE77noknALOjOEjALnCATQpbArPV7efCzJdQsXZhP7r+OAh4WsSMnznL32Gg27IllzD11aXatee00fJMEzALfS8AscIJMCGkC5liRR8cvp1qpQoy7vx6F8nlvJGYOpuwxZiF/7TrGqB6RtKxUPKR9lp7GScDSQ8nlPBIwlwGreBEApq/ZzSNfLad88fx80as+RS81e257I+09dor7Pl7Mhj3H+LB7JK3D5EXltLwjAUuLUACuS8ACAFlViIA54G/9Xh76fCkRRfPx8X3XcVXRfNZzMcfG3PPxQg7EnvGJV/MwnzZM6jAJmAXdVwJmgRNkQtgQiN58gN6fLSF3zuyM6lGXyDKpHfkXXCwrth3mgU8Xcw58glvrqqTHFQbXNhtql4BZ4AUJmAVOkAlhReDvvbG+3St2HTnFmx1rWHlm1teLtvLC5DUUL5iHcT3rhW2ofGodUwJmwWMrAbPACTIh7AgcPH6GPp8vZZEJtW8QwXM3V7Hi+JHTcfG89OMaxi/aRtMKl/Nul9oU8dB6XSA7kgQskLRTqEsCZoETZEJYEjgTl8Bb09czes5mKl5RgPe61ebaKwoEjcWfO47w5DcrWbf7GH1bXMMTN1YkR3ZzvKBScgQkYBb0CwmYBU6QCWFNwAR3GOE4diqOvi3K81DzcgEdjRkhHTFjI+/P2uSLjhzSoTqtKof+RsRZ7XQSsKwS9MP9EjA/QFQRIpBFAiZU/d8/reXnVbsoe1k+XrqtKi0quvuulTnH69c1u3njl/Vs3n+cDrVL8cKtVSiczzsh/lnEnqXbJWAX4zOnML8EVAbqAUtSINwWGA6Yo1/HAEOcfOYQoq8Bs7/LMqAHcCY1L0nAstSHdbMI+JXA3I37eHHyGp+gXFe2CP1alveFrmfL5r+pPCNcCzYdYOj09SzbepgKxfPzr3aV9XJyBj0pAbsYmBGuBGAU8GQKAmZEawPQGtgOLAa6AmuBicB3joiNBFYCH0rAMtgzlV0EgkjABFJ8vWgbo2ZvYueRU1QrVZC7rovg5uols/QCtNlN4/tlO/g8OgYTCXlFwTwMbH0td9YpTc4c2YPYYm9WLQFL2W+zUhGwhs4orY1z+zPOv2YUtg8oAcQBF+ZLtjaNwLz58Mjq0Cdg1qa+X76dsfP+8e0/mDN7Nt/+g43LX06diMJUvbKQ732ylNKps/Fs2hfLgr8PMHP9XhZvOcjZ+HPUKF2IHg3KcGvNKwO61hZqHpOAZU7AOgJmCrGXc7uZJqzviFo0UN75+1XANKCaRmCh9uioPeFEwEz5mT0IJ6/cgdlXcdvBk77mG/EqWSgvxQvkoViBPGQjG2b0dupsAtsOnWDrwROcM28hgy/KsUWlYrSrVpKaeiHZL90nXAXsd2eUdCHEZ4HJzh9TG4GZdTIz+koqYGa97GUg6gIBmwpUT8ZbvQHzQ0RERGRMTIxfHKpCREAE3CdgDsxctvUQK7cd9k0x7j16in2xpzGrZHly5iBPruxcWegS376L5qd2RGFKF7F/2yr3yfm3hnAVsPRQ1BRieigpjwiIgAgEiYAELHNTiDmdII5WwA4niKMbsAb4Bvg2SRDHKuADTSEGqYerWhEQgZAlIAG72LV3AO8B5qS4w8AKZ7rwSidcvp1zi/l3mBNG/zHwmvP3cknC6JcD3YHTErCQfYbUMBEQgSARkIAFCXzSahWFaIETZIIIiIDnCEjALHCZBMwCJ8gEERABzxGQgFngMgmYBU6QCSIgAp4jIAGzwGUSMAucIBNEQAQ8R0ACZoHLJGAWOEEmiIAIeI6ABMwCl0nALHCCTBABEfAcAQmYHS4z+ydmdiuOy4H9djQj01Z4vQ1et984zuttkP2Zfvz8dmMwfFDGeeXJb41wqyD/nWXgloXBKdcc91I3OFX7rVavt8Hr9htHer0Nst9vj2OmC/K6DzLd8PTcKAFLnlIodBqvt8Hr9kvA0vMJ5G4e9SF3+Qa9dAmYBCzonTAFA/ThE3zPeN0HXrc/FL4EudqLJWDJ4zU72o92lbz7hXu9DV6333jY622Q/e4/p2nV4HUfpNW+LF2XgGUJn24WAREQAREIFgEJWLDIq14REAEREIEsEZCAXYzPnAo93NkRfwwwJEuEA3+z2cX/FmBvWqdWB960dNVoTtz+zDkcNcGZyjX+8ErKC8wxZzAC5oigScCLXjE+iZ05nChKc7SR6U9eS1uAY0A8EOfBqOLCzkkd5uR5c/50T+dgX6/5wVV7JWDn4zUP7QagNbDdOZOsK7DWVS/4t/BmQKwjAqbzey2VBMzPMqAAsBS43UM+MM/UpY4PcgHzgMeAaI85YqDzoV/QwwJmXoXx6vuc44C5jojlBszR0+YoKqUkBCRg53eHhsBLzlll5sozzuXXPdZrygJTPDoCuxD1ZGAE8JvHfGDMNR86RsAeBhZ6yP7SgPkANefxGSHz6gjMqwJmvjSsBMw5iGb0pZQCAQnY+WA6AmYKsZfz5x5AfeARj/WgUBEw0w4zHWdGkkc95AMzkjcjx/LA+8BgD9luTDXTnuZLmxkBP+lRAfsHOOQIwCiPRRXXcuw1Mz81nb5kRvHHPdaPXDdXAnY+4k7O6CupgNUD+rvuCf9WEAoClh+Y7YwCvvMvnoCVZtYxvnf6z58BqzVrFZnRljkZvS/QwsMCZk573wkUd0bv5hk2X4a8kMzI0Uw5N3ZG7mYN2HyBe94LxgfSRgnY+bQ1hRjI3pdyXWbtyEyB/gq8bYdJmbbCBHCYb85vZbqEwN5oRl5m5sEEPpiAFDOdZb5AdA+sGX6tzSwLmHVhr/ighCNg5ouoSU2Bp4Gb/UolBAqTgJ3vRBM1ZoI4WgEm+mox0A1Y4zFfe3kEZvqkWX85CAzwGHdjbjHgrLPgfgkwHfivI8hea45XR2AmiCa7E4Vofjfrpy8Dv3jIASaAw8wErXfW5U07BnnI/oCYKgG7GLOZPhnmhNGbkHSzkO2lNN6Z+jG7WO9xQrjHeqgBTZzoq9WACaM36V/AVI+0oYYjwGYdzHyITnQ+PD1i/nlmelXATPCDmbo1yXwp/cqDz7FZBzOv8ZgIxM3A/c6anhf7kWs2S8BcQ6uCRUAEREAE3CQgAXOTrsoWAREQARFwjYAEzDW0KlgEREAERMBNAhIwN+mqbBEQAREQAdcISMBcQ6uCRUAEREAE3CQgAXOTrsoWAREQARFwjYAEzDW0KlgEREAERMBNAhIwN+mqbBEQAREQAdcISMBcQ6uCRUAEREAE3CQgAXOTrsoWAREQARFwjYAEzDW0KlgEREAERMBNAhIwN+mqbBEQAREQAdcISMBcQ6uCRUAEREAE3CQgAXOTrsoWAREQARFwjYAEzDW0KlgEREAERMBNAhIwN+mqbBEQAREQAdcISMBcQ6uCRUAEREAE3CQgAXOTrsoWAREQARFwjYAEzDW0KlgEREAERMBNAhIwN+mqbBEQAREQAdcISMBcQ6uCRUAEREAE3CTw/wA5tz8vEAFtPQAAAABJRU5ErkJggg==\" width=\"432\">"
      ],
      "text/plain": [
       "<IPython.core.display.HTML object>"
      ]
     },
     "metadata": {},
     "output_type": "display_data"
    },
    {
     "data": {
      "text/plain": [
       "[<matplotlib.lines.Line2D at 0x12df0691c88>]"
      ]
     },
     "execution_count": 19,
     "metadata": {},
     "output_type": "execute_result"
    }
   ],
   "source": [
    "plt.plot(a,z)"
   ]
  },
  {
   "cell_type": "markdown",
   "metadata": {},
   "source": [
    "# TWO DIMENSIONAL NUMPY"
   ]
  },
  {
   "cell_type": "code",
   "execution_count": 181,
   "metadata": {},
   "outputs": [],
   "source": [
    "# ndim(), this is used to know the axis or the rank of the matrix or the dimension\n",
    "# the code below is a nested list\n",
    "\n",
    "a = [[2, 4, 6], [3, 6, 9], [4, 8, 12]]\n",
    "A = np.array(a)"
   ]
  },
  {
   "cell_type": "code",
   "execution_count": 6,
   "metadata": {},
   "outputs": [
    {
     "ename": "NameError",
     "evalue": "name 'A' is not defined",
     "output_type": "error",
     "traceback": [
      "\u001b[1;31m---------------------------------------------------------------------------\u001b[0m",
      "\u001b[1;31mNameError\u001b[0m                                 Traceback (most recent call last)",
      "\u001b[1;32m<ipython-input-6-48a2b6442624>\u001b[0m in \u001b[0;36m<module>\u001b[1;34m\u001b[0m\n\u001b[1;32m----> 1\u001b[1;33m \u001b[0mA\u001b[0m\u001b[1;33m.\u001b[0m\u001b[0mndim\u001b[0m\u001b[1;33m\u001b[0m\u001b[1;33m\u001b[0m\u001b[0m\n\u001b[0m\u001b[0;32m      2\u001b[0m \u001b[0mA\u001b[0m\u001b[1;33m.\u001b[0m\u001b[0mdtype\u001b[0m\u001b[1;33m\u001b[0m\u001b[1;33m\u001b[0m\u001b[0m\n\u001b[0;32m      3\u001b[0m \u001b[0mA\u001b[0m\u001b[1;33m.\u001b[0m\u001b[0mshape\u001b[0m\u001b[1;33m\u001b[0m\u001b[1;33m\u001b[0m\u001b[0m\n",
      "\u001b[1;31mNameError\u001b[0m: name 'A' is not defined"
     ]
    }
   ],
   "source": [
    "A.ndim\n",
    "A.dtype\n",
    "A.shape"
   ]
  },
  {
   "cell_type": "code",
   "execution_count": 186,
   "metadata": {},
   "outputs": [
    {
     "data": {
      "text/plain": [
       "9"
      ]
     },
     "execution_count": 186,
     "metadata": {},
     "output_type": "execute_result"
    }
   ],
   "source": [
    "A.size"
   ]
  },
  {
   "cell_type": "code",
   "execution_count": 189,
   "metadata": {},
   "outputs": [],
   "source": [
    "a = [[1, 0, 1], [2, 2, 2]]\n",
    "A = np.array(a)"
   ]
  },
  {
   "cell_type": "code",
   "execution_count": 190,
   "metadata": {},
   "outputs": [
    {
     "data": {
      "text/plain": [
       "0"
      ]
     },
     "execution_count": 190,
     "metadata": {},
     "output_type": "execute_result"
    }
   ],
   "source": [
    "A[0, 1]"
   ]
  },
  {
   "cell_type": "code",
   "execution_count": 191,
   "metadata": {},
   "outputs": [
    {
     "name": "stdout",
     "output_type": "stream",
     "text": [
      "[3 2 3]\n"
     ]
    }
   ],
   "source": [
    "a = np.array([1, 0, 1]) \n",
    "b = np.array([2, 2, 2])\n",
    "print(a+b)\n"
   ]
  },
  {
   "cell_type": "code",
   "execution_count": 194,
   "metadata": {},
   "outputs": [],
   "source": [
    "a = np.array([1, 0, 1]) \n",
    "z = 2*a"
   ]
  },
  {
   "cell_type": "code",
   "execution_count": 195,
   "metadata": {},
   "outputs": [
    {
     "name": "stdout",
     "output_type": "stream",
     "text": [
      "[2 0 2]\n"
     ]
    }
   ],
   "source": [
    "print(z)"
   ]
  },
  {
   "cell_type": "code",
   "execution_count": 201,
   "metadata": {},
   "outputs": [],
   "source": [
    "a = np.array([0, 1]) \n",
    "b = np.array([1, 0])\n",
    "c = np.dot(a,b)"
   ]
  },
  {
   "cell_type": "code",
   "execution_count": 202,
   "metadata": {},
   "outputs": [
    {
     "name": "stdout",
     "output_type": "stream",
     "text": [
      "0\n"
     ]
    }
   ],
   "source": [
    "print(c)"
   ]
  },
  {
   "cell_type": "code",
   "execution_count": 203,
   "metadata": {},
   "outputs": [
    {
     "data": {
      "text/plain": [
       "array([1, 2])"
      ]
     },
     "execution_count": 203,
     "metadata": {},
     "output_type": "execute_result"
    }
   ],
   "source": [
    "X=np.array([[1,0,1],[2,2,2]]) \n",
    "out=X[0:2,2]\n",
    "out"
   ]
  },
  {
   "cell_type": "code",
   "execution_count": 204,
   "metadata": {},
   "outputs": [],
   "source": [
    "X=np.array([[1,0],[0,1]])\n",
    "Y=np.array([[2,1],[1,2]]) \n",
    "Z=np.dot(X,Y)\n"
   ]
  },
  {
   "cell_type": "code",
   "execution_count": 205,
   "metadata": {},
   "outputs": [
    {
     "name": "stdout",
     "output_type": "stream",
     "text": [
      "[2 0 2]\n"
     ]
    }
   ],
   "source": [
    "print(z)"
   ]
  },
  {
   "cell_type": "code",
   "execution_count": null,
   "metadata": {},
   "outputs": [],
   "source": []
  }
 ],
 "metadata": {
  "kernelspec": {
   "display_name": "Python 3",
   "language": "python",
   "name": "python3"
  },
  "language_info": {
   "codemirror_mode": {
    "name": "ipython",
    "version": 3
   },
   "file_extension": ".py",
   "mimetype": "text/x-python",
   "name": "python",
   "nbconvert_exporter": "python",
   "pygments_lexer": "ipython3",
   "version": "3.7.3"
  }
 },
 "nbformat": 4,
 "nbformat_minor": 2
}
